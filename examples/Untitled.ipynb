{
 "cells": [
  {
   "cell_type": "code",
   "execution_count": 1,
   "metadata": {
    "ExecuteTime": {
     "end_time": "2017-08-21T15:11:28.961059Z",
     "start_time": "2017-08-21T15:11:24.817598Z"
    }
   },
   "outputs": [
    {
     "name": "stdout",
     "output_type": "stream",
     "text": [
      "Configuration read from /Users/jburgess/.threeML/threeML_config.yml\n"
     ]
    }
   ],
   "source": [
    "# Scientific libraries\n",
    "import numpy as np\n",
    "#import scipy\n",
    "\n",
    "# import Pandas\n",
    "\n",
    "import pandas as pd\n",
    "import astropy.io.fits as fits\n",
    "import astropy.units as u\n",
    "import astropy.constants as const\n",
    "\n",
    "# Graphic libraries\n",
    "\n",
    "import matplotlib.pyplot as plt\n",
    "%matplotlib inline\n",
    "%matplotlib notebook\n",
    "from jupyterthemes import jtplot\n",
    "jtplot.style('oceans16', context='notebook', fscale=1)\n",
    "\n",
    "\n",
    "#optional 3ML imports\n",
    "\n",
    "from threeML import *\n",
    "#from astromodels.xspec.xspec_settings import *\n",
    "#from astromodels.xspec.factory import *\n",
    "\n",
    "#useful libraries\n",
    "\n",
    "from glob import glob\n",
    "import copy\n",
    "import collections\n",
    "#import warnings\n",
    "#warnings.simplefilter('ignore')"
   ]
  },
  {
   "cell_type": "code",
   "execution_count": 2,
   "metadata": {
    "ExecuteTime": {
     "end_time": "2017-08-21T15:14:35.958641Z",
     "start_time": "2017-08-21T15:11:35.908573Z"
    }
   },
   "outputs": [
    {
     "name": "stdout",
     "output_type": "stream",
     "text": [
      "Building cache for fermigbrst.\n",
      "\n"
     ]
    }
   ],
   "source": [
    "gbm_cat = FermiGBMBurstCatalog()"
   ]
  },
  {
   "cell_type": "code",
   "execution_count": 4,
   "metadata": {
    "ExecuteTime": {
     "end_time": "2017-08-21T15:19:25.423337Z",
     "start_time": "2017-08-21T15:19:25.202616Z"
    }
   },
   "outputs": [
    {
     "data": {
      "text/html": [
       "&lt;Table length=1&gt;\n",
       "<table id=\"table4963759120\" class=\"table-striped table-bordered table-condensed\">\n",
       "<thead><tr><th>name</th><th>ra</th><th>dec</th><th>trigger_time</th><th>t90</th></tr></thead>\n",
       "<thead><tr><th>object</th><th>float64</th><th>float64</th><th>float64</th><th>float64</th></tr></thead>\n",
       "<tr><td>GRB080916009</td><td>119.800</td><td>-56.600</td><td>54725.0088613</td><td>62.977</td></tr>\n",
       "</table>"
      ],
      "text/plain": [
       "<Table length=1>\n",
       "    name        ra     dec    trigger_time   t90  \n",
       "   object    float64 float64    float64    float64\n",
       "------------ ------- ------- ------------- -------\n",
       "GRB080916009 119.800 -56.600 54725.0088613  62.977"
      ]
     },
     "execution_count": 4,
     "metadata": {},
     "output_type": "execute_result"
    }
   ],
   "source": [
    "gbm_cat.query_sources('GRB080916009')"
   ]
  },
  {
   "cell_type": "code",
   "execution_count": 7,
   "metadata": {
    "ExecuteTime": {
     "end_time": "2017-08-21T15:19:53.984546Z",
     "start_time": "2017-08-21T15:19:53.978884Z"
    }
   },
   "outputs": [],
   "source": [
    "model = gbm_cat.get_model()"
   ]
  },
  {
   "cell_type": "code",
   "execution_count": 10,
   "metadata": {
    "ExecuteTime": {
     "end_time": "2017-08-21T15:20:13.964176Z",
     "start_time": "2017-08-21T15:20:13.960921Z"
    }
   },
   "outputs": [],
   "source": [
    "m = model['GRB080916009']"
   ]
  },
  {
   "cell_type": "code",
   "execution_count": 11,
   "metadata": {
    "ExecuteTime": {
     "end_time": "2017-08-21T15:20:32.568005Z",
     "start_time": "2017-08-21T15:20:32.562730Z"
    }
   },
   "outputs": [
    {
     "data": {
      "text/plain": [
       "array(0.16619294764912226)"
      ]
     },
     "execution_count": 11,
     "metadata": {},
     "output_type": "execute_result"
    }
   ],
   "source": [
    "m.GRB080916009.spectrum.main(10)"
   ]
  },
  {
   "cell_type": "code",
   "execution_count": 13,
   "metadata": {
    "ExecuteTime": {
     "end_time": "2017-08-21T15:31:44.696029Z",
     "start_time": "2017-08-21T15:31:44.692835Z"
    },
    "collapsed": true
   },
   "outputs": [],
   "source": [
    "import astropy.units as u"
   ]
  },
  {
   "cell_type": "code",
   "execution_count": 14,
   "metadata": {
    "ExecuteTime": {
     "end_time": "2017-08-21T15:31:59.996545Z",
     "start_time": "2017-08-21T15:31:59.993289Z"
    },
    "collapsed": true
   },
   "outputs": [],
   "source": [
    "a=10*u.keV"
   ]
  },
  {
   "cell_type": "code",
   "execution_count": 17,
   "metadata": {
    "ExecuteTime": {
     "end_time": "2017-08-21T15:32:44.490450Z",
     "start_time": "2017-08-21T15:32:44.485907Z"
    }
   },
   "outputs": [
    {
     "data": {
      "text/plain": [
       "astropy.units.quantity.Quantity"
      ]
     },
     "execution_count": 17,
     "metadata": {},
     "output_type": "execute_result"
    }
   ],
   "source": [
    "type(a)"
   ]
  },
  {
   "cell_type": "code",
   "execution_count": 18,
   "metadata": {
    "ExecuteTime": {
     "end_time": "2017-08-21T15:32:48.841458Z",
     "start_time": "2017-08-21T15:32:48.836873Z"
    }
   },
   "outputs": [
    {
     "data": {
      "text/plain": [
       "True"
      ]
     },
     "execution_count": 18,
     "metadata": {},
     "output_type": "execute_result"
    }
   ],
   "source": [
    "isinstance(a,u.Quantity )"
   ]
  },
  {
   "cell_type": "code",
   "execution_count": 20,
   "metadata": {
    "ExecuteTime": {
     "end_time": "2017-08-21T15:51:44.818814Z",
     "start_time": "2017-08-21T15:51:44.815678Z"
    },
    "collapsed": true
   },
   "outputs": [],
   "source": [
    "import scipy.integrate as integrate"
   ]
  },
  {
   "cell_type": "code",
   "execution_count": 30,
   "metadata": {
    "ExecuteTime": {
     "end_time": "2017-08-21T16:02:12.738685Z",
     "start_time": "2017-08-21T16:02:12.668491Z"
    },
    "collapsed": true
   },
   "outputs": [],
   "source": [
    "class HRCalc(object):\n",
    "    \n",
    "    def __init__(self, model, ene_lo_min = 50.,ene_lo_max = 300.,ene_hi_min= 300., ene_hi_max=1000.):\n",
    "        \"\"\"\n",
    "        \n",
    "        \n",
    "        \"\"\"\n",
    "        \n",
    "        \n",
    "        # convert everything to keV\n",
    "        \n",
    "        self._ene_lo_min, warn = HRCalc._convert_to_unit(ene_lo_min)\n",
    "        \n",
    "        if warn:\n",
    "            \n",
    "            RuntimeWarning('Assuming ene_lo_min is in keV')\n",
    "            \n",
    "        self._ene_lo_max, warn = HRCalc._convert_to_unit(ene_lo_max)\n",
    "        \n",
    "        if warn:\n",
    "            \n",
    "            RuntimeWarning('Assuming ene_lo_max is in keV')\n",
    "            \n",
    "        self._ene_hi_min, warn = HRCalc._convert_to_unit(ene_hi_min)\n",
    "        \n",
    "        if warn:\n",
    "            \n",
    "            RuntimeWarning('Assuming ene_hi_min is in keV')\n",
    "            \n",
    "        self._ene_hi_max, warn = HRCalc._convert_to_unit(ene_hi_max)\n",
    "        \n",
    "        if warn:\n",
    "            \n",
    "            RuntimeWarning('Assuming ene_hi_max is in keV')\n",
    "         \n",
    "        \n",
    "        # check we did not fuck up the energies\n",
    "        \n",
    "        assert ene_lo_min < ene_lo_max, 'energies are out of order!'\n",
    "        assert ene_lo_max <= ene_hi_min, 'energies are out of order!'\n",
    "        assert ene_hi_min < ene_hi_max, 'energies are out of order!'\n",
    "        \n",
    "        # save the model call\n",
    "        \n",
    "        self._call = lambda ene: model.get_point_source_fluxes(0,ene) # phts/s/cm2/keV\n",
    "        self._ene_call = lambda ene: model.get_point_source_fluxes(0,ene)*ene # phts/s/cm2/keV\n",
    "        \n",
    "        #self._kev2erg = (1*u.keV).to(u.erg).value\n",
    "        \n",
    "        self._compute_photon_hardness_ratio()\n",
    "        self._compute_energy_hardness_ratio()\n",
    "        \n",
    "    \n",
    "    def _compute_photon_hardness_ratio(self):\n",
    "        \n",
    "        self._ph_hr_lo = integrate.quad(self._call, self._ene_lo_min, self._ene_lo_max)[0]\n",
    "        self._ph_hr_hi = integrate.quad(self._call, self._ene_hi_min, self._ene_hi_max)[0]\n",
    "        self._ph_hr = self._ph_hr_lo/self._ph_hr_hi\n",
    "        \n",
    "        \n",
    "    def _compute_energy_hardness_ratio(self):\n",
    "        \n",
    "        self._ene_hr_lo = integrate.quad(self._ene_call, self._ene_lo_min, self._ene_lo_max)[0]\n",
    "        self._ene_hr_hi = integrate.quad(self._ene_call, self._ene_hi_min, self._ene_hi_max)[0]\n",
    "        self._ene_hr = self._ene_hr_lo/self._ene_hr_hi\n",
    "        \n",
    "        \n",
    "        \n",
    "    @property\n",
    "    def photon_hardness_ratio(self):\n",
    "        \"\"\"\n",
    "        :return : photon hardness ratio \n",
    "        \"\"\"\n",
    "        \n",
    "        return self._ph_hr #* self._kev2erg \n",
    "    \n",
    "    @property\n",
    "    def energy_hardness_ratio(self):\n",
    "        \"\"\"\n",
    "        :return : energy hardness ratio \n",
    "        \"\"\"\n",
    "        \n",
    "        return self._ene_hr\n",
    "        \n",
    "        \n",
    "    @staticmethod\n",
    "    def _convert_to_unit(value):\n",
    "        \n",
    "        if isinstance(value,u.Quantity):\n",
    "            \n",
    "            value = value.to(u.keV).value\n",
    "            warn = False\n",
    "        else:\n",
    "            \n",
    "            warn = True\n",
    "            \n",
    "        return value, warn\n",
    "    \n",
    "        "
   ]
  },
  {
   "cell_type": "code",
   "execution_count": 27,
   "metadata": {
    "ExecuteTime": {
     "end_time": "2017-08-21T16:00:47.135454Z",
     "start_time": "2017-08-21T16:00:47.106697Z"
    }
   },
   "outputs": [],
   "source": [
    "hr = HRCalc(m)"
   ]
  },
  {
   "cell_type": "code",
   "execution_count": 28,
   "metadata": {
    "ExecuteTime": {
     "end_time": "2017-08-21T16:00:54.175851Z",
     "start_time": "2017-08-21T16:00:54.171340Z"
    }
   },
   "outputs": [
    {
     "data": {
      "text/plain": [
       "0.7409494896473245"
      ]
     },
     "execution_count": 28,
     "metadata": {},
     "output_type": "execute_result"
    }
   ],
   "source": [
    "hr.energy_hardness_ratio"
   ]
  },
  {
   "cell_type": "code",
   "execution_count": 29,
   "metadata": {
    "ExecuteTime": {
     "end_time": "2017-08-21T16:01:01.001010Z",
     "start_time": "2017-08-21T16:01:00.995971Z"
    }
   },
   "outputs": [
    {
     "data": {
      "text/plain": [
       "4.794446208244634e-09"
      ]
     },
     "execution_count": 29,
     "metadata": {},
     "output_type": "execute_result"
    }
   ],
   "source": [
    "hr.photon_hardness_ratio"
   ]
  },
  {
   "cell_type": "code",
   "execution_count": null,
   "metadata": {
    "collapsed": true
   },
   "outputs": [],
   "source": []
  }
 ],
 "metadata": {
  "kernelspec": {
   "display_name": "Python 2",
   "language": "python",
   "name": "python2"
  },
  "language_info": {
   "codemirror_mode": {
    "name": "ipython",
    "version": 2
   },
   "file_extension": ".py",
   "mimetype": "text/x-python",
   "name": "python",
   "nbconvert_exporter": "python",
   "pygments_lexer": "ipython2",
   "version": "2.7.13"
  },
  "toc": {
   "colors": {
    "hover_highlight": "#DAA520",
    "navigate_num": "#000000",
    "navigate_text": "#333333",
    "running_highlight": "#FF0000",
    "selected_highlight": "#FFD700",
    "sidebar_border": "#EEEEEE",
    "wrapper_background": "#FFFFFF"
   },
   "moveMenuLeft": true,
   "nav_menu": {
    "height": "4px",
    "width": "254px"
   },
   "navigate_menu": true,
   "number_sections": true,
   "sideBar": true,
   "threshold": 4,
   "toc_cell": false,
   "toc_section_display": "block",
   "toc_window_display": false,
   "widenNotebook": false
  },
  "varInspector": {
   "cols": {
    "lenName": 16,
    "lenType": 16,
    "lenVar": 40
   },
   "kernels_config": {
    "python": {
     "delete_cmd_postfix": "",
     "delete_cmd_prefix": "del ",
     "library": "var_list.py",
     "varRefreshCmd": "print(var_dic_list())"
    },
    "r": {
     "delete_cmd_postfix": ") ",
     "delete_cmd_prefix": "rm(",
     "library": "var_list.r",
     "varRefreshCmd": "cat(var_dic_list()) "
    }
   },
   "types_to_exclude": [
    "module",
    "function",
    "builtin_function_or_method",
    "instance",
    "_Feature"
   ],
   "window_display": false
  }
 },
 "nbformat": 4,
 "nbformat_minor": 2
}
